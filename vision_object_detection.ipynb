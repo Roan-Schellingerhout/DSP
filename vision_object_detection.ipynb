{
 "cells": [
  {
   "cell_type": "code",
   "execution_count": 12,
   "id": "6047714d",
   "metadata": {},
   "outputs": [],
   "source": [
    "import io, os\n",
    "from numpy import random\n",
    "from google.cloud import vision\n",
    "from PIL import ImageTk, Image, ImageDraw\n",
    "import pandas as pd\n",
    "import sqlite3"
   ]
  },
  {
   "cell_type": "code",
   "execution_count": 27,
   "id": "c1449228",
   "metadata": {},
   "outputs": [],
   "source": [
    "# create client\n",
    "os.environ[\"GOOGLE_APPLICATION_CREDENTIALS\"]=\"static/cloud_credentials_steel-operative-337913-b3f7be97f534.json\"\n",
    "client = vision.ImageAnnotatorClient()"
   ]
  },
  {
   "cell_type": "code",
   "execution_count": 28,
   "id": "87d4d8b7",
   "metadata": {},
   "outputs": [],
   "source": [
    "img_path = \"static/images/paintings/\"\n",
    "paintings = os.listdir(img_path)"
   ]
  },
  {
   "cell_type": "code",
   "execution_count": 29,
   "id": "a8f13cd3",
   "metadata": {},
   "outputs": [],
   "source": [
    "con = sqlite3.connect('rijksstudio.db')\n",
    "cur = con.cursor()"
   ]
  },
  {
   "cell_type": "code",
   "execution_count": 30,
   "id": "2d3ce265",
   "metadata": {},
   "outputs": [],
   "source": [
    "# create objects table\n",
    "cur.execute(\"\"\"CREATE TABLE IF NOT EXISTS Objects\n",
    "               (painting_id INTEGER PRIMARY KEY,\n",
    "                object_name TEXT,\n",
    "                confidence INTEGER,\n",
    "                min_x INTEGER, \n",
    "                min_y INTEGER,\n",
    "                max_x INTEGER, \n",
    "                max_y INTEGER,\n",
    "                source TEXT\n",
    "                )\"\"\")\n",
    "\n",
    "# Save changes\n",
    "con.commit()"
   ]
  },
  {
   "cell_type": "code",
   "execution_count": 39,
   "id": "3e585296",
   "metadata": {},
   "outputs": [],
   "source": [
    "def get_object_data(obj, painting):\n",
    "    print(obj, painting)\n",
    "    normalized_vertices = obj.bounding_poly.normalized_vertices\n",
    "    q = cur.execute(f\"\"\"INSERT OR REPLACE INTO Objects\n",
    "                           VALUES ({painting}, '{obj.name}', '{obj.score}, {normalized_vertices[0].x}, {normalized_vertices[0].y}, {normalized_vertices[1].x}, {normalized_vertices[1].y}, {\"GOOGLE_VISION\"}')\n",
    "                           \"\"\")\n",
    "    con.commit()\n",
    "    "
   ]
  },
  {
   "cell_type": "code",
   "execution_count": null,
   "id": "a340411a",
   "metadata": {},
   "outputs": [
    {
     "name": "stdout",
     "output_type": "stream",
     "text": [
      "Reading SK-A-2152.png ...\n"
     ]
    }
   ],
   "source": [
    "for painting in paintings:\n",
    "    print(\"Reading \"+painting+\" ...\")\n",
    "    # Loads the image into memory\n",
    "    with io.open(os.path.join(img_path, painting), 'rb') as image_file:\n",
    "        content = image_file.read()\n",
    "    \n",
    "    # call API\n",
    "    image = vision.Image(content=content)\n",
    "    response = client.object_localization(image=image)\n",
    "    localized_object_annotations = response.localized_object_annotations\n",
    "        \n",
    "    # add every object data to db\n",
    "    for obj in localized_object_annotations:\n",
    "        # only use unique objects (for now)\n",
    "        if obj not in objects:\n",
    "            objects.append(obj)\n",
    "            get_object_data(obj, painting)\n",
    "    print(\"objects \"+str(objects)+\" added to db\")"
   ]
  },
  {
   "cell_type": "code",
   "execution_count": null,
   "id": "3a73ad24",
   "metadata": {},
   "outputs": [],
   "source": [
    "con.close()"
   ]
  }
 ],
 "metadata": {
  "kernelspec": {
   "display_name": "Python 3 (ipykernel)",
   "language": "python",
   "name": "python3"
  },
  "language_info": {
   "codemirror_mode": {
    "name": "ipython",
    "version": 3
   },
   "file_extension": ".py",
   "mimetype": "text/x-python",
   "name": "python",
   "nbconvert_exporter": "python",
   "pygments_lexer": "ipython3",
   "version": "3.9.7"
  }
 },
 "nbformat": 4,
 "nbformat_minor": 5
}

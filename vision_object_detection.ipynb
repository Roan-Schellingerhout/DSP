{
 "cells": [
  {
   "cell_type": "code",
   "execution_count": 1,
   "id": "1cb9130b",
   "metadata": {},
   "outputs": [],
   "source": [
    "import io, os\n",
    "import numpy as np\n",
    "from google.cloud import vision\n",
    "from PIL import ImageTk, Image, ImageDraw\n",
    "import pandas as pd\n",
    "import sqlite3\n",
    "import json"
   ]
  },
  {
   "cell_type": "code",
   "execution_count": 2,
   "id": "7d54b03b",
   "metadata": {},
   "outputs": [],
   "source": [
    "# create client\n",
    "os.environ[\"GOOGLE_APPLICATION_CREDENTIALS\"]=\"static/cloud_credentials_steel-operative-337913-b3f7be97f534.json\"\n",
    "client = vision.ImageAnnotatorClient()"
   ]
  },
  {
   "cell_type": "code",
   "execution_count": 3,
   "id": "10277794",
   "metadata": {},
   "outputs": [],
   "source": [
    "img_path = \"static/images/paintings/\"\n",
    "paintings = os.listdir(img_path)"
   ]
  },
  {
   "cell_type": "code",
   "execution_count": 4,
   "id": "7d13ce1d",
   "metadata": {},
   "outputs": [],
   "source": [
    "con = sqlite3.connect('rijksstudio.db')\n",
    "cur = con.cursor()"
   ]
  },
  {
   "cell_type": "code",
   "execution_count": 5,
   "id": "e0eceb48",
   "metadata": {},
   "outputs": [],
   "source": [
    "objects_vision = []"
   ]
  },
  {
   "cell_type": "code",
   "execution_count": 6,
   "id": "f5542d28",
   "metadata": {},
   "outputs": [],
   "source": [
    "def get_object_data(obj, painting, dims):\n",
    "    normalized_vertices = obj.bounding_poly.normalized_vertices\n",
    "    \n",
    "    q = cur.execute(\"\"\"INSERT OR REPLACE INTO Objects \n",
    "               VALUES (?,?,?,?,?,?,?,?,?,?);\"\"\", (painting, \n",
    "                                              obj.name.lower(), \n",
    "                                              obj.score, \n",
    "                                              dims[0] * normalized_vertices[0].x, \n",
    "                                              dims[1] * normalized_vertices[0].y, \n",
    "                                              dims[0] * normalized_vertices[2].x, \n",
    "                                              dims[1] * normalized_vertices[2].y, \n",
    "                                              \"GOOGLE_VISION\",\n",
    "                                              0,\n",
    "                                              0))\n",
    "    \n",
    "    con.commit()\n",
    "    \n",
    "    return {\n",
    "      'painting_id': painting,\n",
    "      'object_name': obj.name.lower(),\n",
    "      'confidence': obj.score,\n",
    "      'min_x': dims[0] * normalized_vertices[0].x,\n",
    "      'min_y': dims[1] * normalized_vertices[0].y,\n",
    "      'max_x': dims[0] * normalized_vertices[2].x,\n",
    "      'max_y': dims[1] * normalized_vertices[2].y\n",
    "    }"
   ]
  },
  {
   "cell_type": "code",
   "execution_count": 7,
   "id": "76fe5ed8",
   "metadata": {},
   "outputs": [],
   "source": [
    "# create objects table\n",
    "cur.execute(\"\"\"CREATE TABLE IF NOT EXISTS Objects\n",
    "               (painting_id TEXT,\n",
    "                object_name TEXT,\n",
    "                confidence INTEGER,\n",
    "                min_x INTEGER, \n",
    "                min_y INTEGER,\n",
    "                max_x INTEGER, \n",
    "                max_y INTEGER,\n",
    "                source TEXT,\n",
    "                total_clicks INTEGER DEFAULT 0,\n",
    "                flags INTEGER DEFAULT 0\n",
    "                )\"\"\")\n",
    "\n",
    "# Save changes\n",
    "con.commit()"
   ]
  },
  {
   "cell_type": "code",
   "execution_count": 8,
   "id": "12fa823f",
   "metadata": {
    "scrolled": false
   },
   "outputs": [
    {
     "name": "stdout",
     "output_type": "stream",
     "text": [
      "Reading RP-F-2004-71.png ...\n",
      "Reading RP-F-2014-7-1-3.png ...\n",
      "Reading RP-P-H-1086.png ...\n",
      "Reading RP-T-1881-A-107.png ...\n",
      "Reading RP-T-1951-200.png ...\n",
      "Reading RP-T-1951-203.png ...\n",
      "Reading SK-A-1107.png ...\n",
      "Reading SK-A-113.png ...\n",
      "Reading SK-A-1130.png ...\n",
      "Reading SK-A-129.png ...\n",
      "Reading SK-A-137.png ...\n",
      "Reading SK-A-1451.png ...\n",
      "Reading SK-A-1595.png ...\n",
      "Reading SK-A-1627.png ...\n",
      "Reading SK-A-1649.png ...\n",
      "Reading SK-A-1751.png ...\n",
      "Reading SK-A-180.png ...\n",
      "Reading SK-A-1857.png ...\n",
      "Reading SK-A-199.png ...\n",
      "Reading SK-A-2150.png ...\n",
      "Reading SK-A-2152.png ...\n",
      "Reading SK-A-2180.png ...\n",
      "Reading SK-A-2205.png ...\n",
      "Reading SK-A-2213.png ...\n",
      "Reading SK-A-2251.png ...\n",
      "Reading SK-A-2344.png ...\n",
      "Reading SK-A-2362.png ...\n",
      "Reading SK-A-2366.png ...\n",
      "Reading SK-A-2388.png ...\n",
      "Reading SK-A-2452.png ...\n",
      "Reading SK-A-2549.png ...\n",
      "Reading SK-A-2565.png ...\n",
      "Reading SK-A-263.png ...\n",
      "Reading SK-A-2713.png ...\n",
      "Reading SK-A-2836.png ...\n",
      "Reading SK-A-2962.png ...\n",
      "Reading SK-A-3059.png ...\n",
      "Reading SK-A-3103.png ...\n",
      "Reading SK-A-3123.png ...\n",
      "Reading SK-A-3254.png ...\n",
      "Reading SK-A-3347.png ...\n",
      "Reading SK-A-335.png ...\n",
      "Reading SK-A-3456.png ...\n",
      "Reading SK-A-3467.png ...\n",
      "Reading SK-A-3518.png ...\n",
      "Reading SK-A-385.png ...\n",
      "Reading SK-A-390.png ...\n",
      "Reading SK-A-3924.png ...\n",
      "Reading SK-A-3930.png ...\n",
      "Reading SK-A-3948.png ...\n",
      "Reading SK-A-3962.png ...\n",
      "Reading SK-A-3988.png ...\n",
      "Reading SK-A-3995.png ...\n",
      "Reading SK-A-4052.png ...\n",
      "Reading SK-A-4054.png ...\n",
      "Reading SK-A-4098.png ...\n",
      "Reading SK-A-4118.png ...\n",
      "Reading SK-A-4152.png ...\n",
      "Reading SK-A-4157.png ...\n",
      "Reading SK-A-4163.png ...\n",
      "Reading SK-A-4290.png ...\n",
      "Reading SK-A-4646.png ...\n",
      "Reading SK-A-4717.png ...\n",
      "Reading SK-A-4779.png ...\n",
      "Reading SK-A-4820.png ...\n",
      "Reading SK-A-4821.png ...\n",
      "Reading SK-A-4830.png ...\n",
      "Reading SK-A-4839.png ...\n",
      "Reading SK-A-4867.png ...\n",
      "Reading SK-A-4908.png ...\n",
      "Reading SK-A-4941.png ...\n",
      "Reading SK-A-4968.png ...\n",
      "Reading SK-A-4981.png ...\n",
      "Reading SK-A-613.png ...\n",
      "Reading SK-A-662.png ...\n",
      "Reading SK-A-671.png ...\n",
      "Reading SK-A-690.png ...\n",
      "Reading SK-A-718.png ...\n",
      "Reading SK-A-752.png ...\n",
      "Reading SK-A-86.png ...\n",
      "Reading SK-A-93.png ...\n",
      "Reading SK-A-98.png ...\n",
      "Reading SK-C-112.png ...\n",
      "Reading SK-C-134.png ...\n",
      "Reading SK-C-1458.png ...\n",
      "Reading SK-C-147.png ...\n",
      "Reading SK-C-149.png ...\n",
      "Reading SK-C-152.png ...\n",
      "Reading SK-C-1561.png ...\n",
      "Reading SK-C-1672.png ...\n",
      "Reading SK-C-177.png ...\n",
      "Reading SK-C-185.png ...\n",
      "Reading SK-C-187.png ...\n",
      "Reading SK-C-206.png ...\n",
      "Reading SK-C-229.png ...\n",
      "Reading SK-C-291.png ...\n",
      "Reading SK-C-301.png ...\n",
      "Reading SK-C-535.png ...\n",
      "Reading SK-C-610.png ...\n"
     ]
    }
   ],
   "source": [
    "for painting in paintings:\n",
    "    print(\"Reading \"+painting+\" ...\")\n",
    "    # Loads the image into memory\n",
    "    with io.open(os.path.join(img_path, painting), 'rb') as image_file:\n",
    "        content = image_file.read()\n",
    "        dims = Image.open(image_file).size\n",
    "    \n",
    "    # call API\n",
    "    image = vision.Image(content=content)\n",
    "    response = client.object_localization(image=image)\n",
    "    localized_object_annotations = response.localized_object_annotations\n",
    "    \n",
    "    # add every object data to db\n",
    "    for obj in localized_object_annotations:\n",
    "        # only keep object with confidence of 0.9 or higher\n",
    "        if obj.score<0.9:\n",
    "            continue\n",
    "        normalized_vertices = obj.bounding_poly.normalized_vertices\n",
    "        \n",
    "        objects_vision.append(get_object_data(obj, painting, dims))"
   ]
  },
  {
   "cell_type": "code",
   "execution_count": 9,
   "id": "3569e8e0",
   "metadata": {},
   "outputs": [],
   "source": [
    "con.close()"
   ]
  },
  {
   "cell_type": "code",
   "execution_count": 11,
   "id": "2db68610",
   "metadata": {},
   "outputs": [],
   "source": [
    "# Save objects into json\n",
    "json.dump(objects_vision, open(\"objects_vision.json\", 'w'))"
   ]
  },
  {
   "cell_type": "code",
   "execution_count": null,
   "id": "75b05f0a",
   "metadata": {},
   "outputs": [],
   "source": []
  }
 ],
 "metadata": {
  "kernelspec": {
   "display_name": "Python 3 (ipykernel)",
   "language": "python",
   "name": "python3"
  },
  "language_info": {
   "codemirror_mode": {
    "name": "ipython",
    "version": 3
   },
   "file_extension": ".py",
   "mimetype": "text/x-python",
   "name": "python",
   "nbconvert_exporter": "python",
   "pygments_lexer": "ipython3",
   "version": "3.9.7"
  }
 },
 "nbformat": 4,
 "nbformat_minor": 5
}

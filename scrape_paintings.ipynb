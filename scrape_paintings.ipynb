{
 "cells": [
  {
   "cell_type": "code",
   "execution_count": 23,
   "id": "1f8efb90",
   "metadata": {},
   "outputs": [],
   "source": [
    "import requests\n",
    "import shutil\n",
    "from tqdm import tqdm"
   ]
  },
  {
   "cell_type": "code",
   "execution_count": 26,
   "id": "0c61ff97",
   "metadata": {},
   "outputs": [
    {
     "name": "stderr",
     "output_type": "stream",
     "text": [
      "100%|████████████████████████████████████████| 125/125 [02:14<00:00,  1.07s/it]\n"
     ]
    }
   ],
   "source": [
    "with open(\"paintings.txt\") as f:\n",
    "    links = f.read().split(\"\\n\")\n",
    "    for link in tqdm(links):\n",
    "        painting_id = link.split(\"/\")[-1]\n",
    "        r = requests.get(f\"https://www.rijksmuseum.nl/api/en/collection/{painting_id}?key=Mud9AFgV\")\n",
    "        js = r.json()\n",
    "        \n",
    "        try:\n",
    "            painting = js[\"artObject\"][\"webImage\"][\"url\"]\n",
    "        except TypeError:\n",
    "            continue \n",
    "            \n",
    "        img_data = requests.get(painting, stream=True)\n",
    "        \n",
    "        with open(f'DSP/static/images/paintings/{painting_id}.png', 'wb') as handler:\n",
    "            shutil.copyfileobj(img_data.raw, handler)\n",
    "            \n",
    "        del img_data"
   ]
  },
  {
   "cell_type": "code",
   "execution_count": null,
   "id": "5fd0e6a1",
   "metadata": {},
   "outputs": [],
   "source": []
  }
 ],
 "metadata": {
  "kernelspec": {
   "display_name": "Python 3",
   "language": "python",
   "name": "python3"
  },
  "language_info": {
   "codemirror_mode": {
    "name": "ipython",
    "version": 3
   },
   "file_extension": ".py",
   "mimetype": "text/x-python",
   "name": "python",
   "nbconvert_exporter": "python",
   "pygments_lexer": "ipython3",
   "version": "3.6.13"
  }
 },
 "nbformat": 4,
 "nbformat_minor": 5
}

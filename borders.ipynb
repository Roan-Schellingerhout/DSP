{
 "cells": [
  {
   "cell_type": "code",
   "execution_count": 1,
   "id": "43abc665",
   "metadata": {},
   "outputs": [],
   "source": [
    "import numpy as np\n",
    "import matplotlib.pyplot as plt\n",
    "from matplotlib import image\n",
    "import imageio\n",
    "import sqlite3\n",
    "from flask import g, Flask, render_template\n",
    "from werkzeug.wrappers import Request, Response\n",
    "from flask import Flask\n",
    "from werkzeug.serving import run_simple"
   ]
  },
  {
   "cell_type": "code",
   "execution_count": 2,
   "id": "0b74e1ae",
   "metadata": {},
   "outputs": [],
   "source": [
    "con = sqlite3.connect('Clicks.db')"
   ]
  },
  {
   "cell_type": "code",
   "execution_count": 3,
   "id": "8d59bb33",
   "metadata": {},
   "outputs": [],
   "source": [
    "cur = con.cursor()\n",
    "\n",
    "# Create table\n",
    "try: \n",
    "    cur.execute('''CREATE TABLE Clicks\n",
    "                   (painting_id, object_name, user_id, x, y)''')\n",
    "except:\n",
    "    pass\n",
    "\n",
    "# Insert a row of data\n",
    "for _ in range(100):\n",
    "    painting_id = 123\n",
    "    object_name = \"dog\"\n",
    "    user_id = np.random.randint(0, 10000)\n",
    "    x = np.random.randint(150, 300)\n",
    "    y = np.random.randint(675, 850)\n",
    "    \n",
    "    cur.execute(f\"INSERT INTO Clicks VALUES ('{painting_id}', '{object_name}','{user_id}', {x}, {y})\")\n",
    "\n",
    "# Save (commit) the changes\n",
    "con.commit()\n",
    "\n",
    "# We can also close the connection if we are done with it.\n",
    "# Just be sure any changes have been committed or they will be lost.\n",
    "con.close()"
   ]
  },
  {
   "cell_type": "code",
   "execution_count": 4,
   "id": "ff3fd6b8",
   "metadata": {},
   "outputs": [],
   "source": [
    "DATABASE = 'Clicks.db'\n",
    "\n",
    "app = Flask(__name__)\n",
    "\n",
    "def get_db():\n",
    "    db = getattr(g, '_database', None)\n",
    "    if db is None:\n",
    "        db = g._database = sqlite3.connect(DATABASE)\n",
    "    return db\n",
    "\n",
    "@app.teardown_appcontext\n",
    "def close_connection(exception):\n",
    "    db = getattr(g, '_database', None)\n",
    "    if db is not None:\n",
    "        db.close()"
   ]
  },
  {
   "cell_type": "code",
   "execution_count": 5,
   "id": "42718d2e",
   "metadata": {},
   "outputs": [],
   "source": [
    "@app.route('/')\n",
    "def index():\n",
    "    \n",
    "    img = image.imread(\"example.png\")\n",
    "\n",
    "    \n",
    "    cur = get_db().cursor()\n",
    "    \n",
    "    q = cur.execute(\"\"\"SELECT x, y\n",
    "                       FROM Clicks \n",
    "                       WHERE painting_id == '123'\n",
    "                       AND object_name == 'dog'\"\"\")\n",
    "    \n",
    "    points = [(r[0], r[1]) for r in q]\n",
    "    \n",
    "    min_x, min_y, max_x, max_y = find_edges(normalize(points))\n",
    "\n",
    "    v_lines = [min_x, max_x]\n",
    "    h_lines = [min_y, max_y]\n",
    "    box = (min_x, max_x, min_y, max_y)\n",
    "        \n",
    "    plt.figure(figsize = (16, 16))\n",
    "    ax = plt.gca()\n",
    "    plt.plot()\n",
    "\n",
    "    for line in v_lines:\n",
    "        plt.vlines(x=line, color=\"r\", ymin=min_y, ymax=max_y,\n",
    "                   ls='-', lw=1.5)\n",
    "\n",
    "    for line in h_lines:\n",
    "        plt.hlines(y=line, color=\"r\", xmin=min_x, xmax=max_x,\n",
    "                   ls='-', lw=1.5)\n",
    "\n",
    "    plt.axis('off')\n",
    "    plt.imshow(img)\n",
    "    plt.savefig('static/images/123_dog.png')\n",
    "    \n",
    "    return render_template('test.html', name = 'dog', url ='static/images/123_dog.png')"
   ]
  },
  {
   "cell_type": "code",
   "execution_count": 6,
   "id": "810c54b3",
   "metadata": {},
   "outputs": [],
   "source": [
    "def normalize(points):\n",
    "    a = np.array(points)\n",
    "    mean, stdev = np.mean(a, axis = 0), np.std(a, axis=0)\n",
    "    \n",
    "    # Normalize values, and see if they are more than a standard deviation \n",
    "    # apart from the mean\n",
    "    outliers = ((np.abs(a[:,0] - mean[0]) > 0.25 * stdev[0])\n",
    "               * (np.abs(a[:,1] - mean[1]) > 0.25 * stdev[1]))\n",
    "        \n",
    "    return a[~outliers]"
   ]
  },
  {
   "cell_type": "code",
   "execution_count": 7,
   "id": "7a2a514a",
   "metadata": {},
   "outputs": [],
   "source": [
    "def find_edges(points):\n",
    "    \"\"\"Find the edges of the user clicks to determine the boxes\"\"\"\n",
    "    min_x = min(points, key = lambda x: x[0])[0]\n",
    "    min_y = min(points, key = lambda x: x[1])[1]\n",
    "\n",
    "    max_x = max(points, key = lambda x: x[0])[0]\n",
    "    max_y = max(points, key = lambda x: x[1])[1]\n",
    "    \n",
    "    return min_x, min_y, max_x, max_y"
   ]
  },
  {
   "cell_type": "code",
   "execution_count": 8,
   "id": "6f9bf7f4",
   "metadata": {},
   "outputs": [],
   "source": [
    "def score(click, box, time):\n",
    "    \n",
    "    # max score is 1000\n",
    "    score = 100\n",
    "    \n",
    "    # score goes down by 25 per second\n",
    "    score -= time * 2.5\n",
    "    \n",
    "    # split click into x and y coordinates\n",
    "    x, y = click\n",
    "       \n",
    "    # extract box edges\n",
    "    x_min, x_max, y_min, y_max = box\n",
    "    \n",
    "    # find the biggest box size\n",
    "    size = max(x_max - x_min, y_max - y_min)\n",
    "   \n",
    "    # If the click is within the box, give full points\n",
    "    if (x_min < x < x_max) and (y_min < y < y_max):\n",
    "        return score\n",
    "    else:\n",
    "        # distance to closest point on x-axis\n",
    "        dx = max(min_x - x, 0, x - max_x)\n",
    "        # distance to closest point on y-axis\n",
    "        dy = max(min_y - y, 0, y - max_y)\n",
    "        # pythagoras theorem\n",
    "        distance = np.sqrt(dx**2 + dy**2)\n",
    "        if distance > size:\n",
    "            return 0\n",
    "        else:\n",
    "            return ((0.15 * size) / (distance ** 1.75 / 10)) * score"
   ]
  },
  {
   "cell_type": "code",
   "execution_count": null,
   "id": "12b5438a",
   "metadata": {},
   "outputs": [
    {
     "name": "stderr",
     "output_type": "stream",
     "text": [
      " * Running on http://localhost:9000/ (Press CTRL+C to quit)\n",
      "127.0.0.1 - - [11/Jan/2022 03:07:04] \"GET / HTTP/1.1\" 200 -\n",
      "127.0.0.1 - - [11/Jan/2022 03:07:04] \"GET /static/images/123_dog.png HTTP/1.1\" 200 -\n",
      "127.0.0.1 - - [11/Jan/2022 03:07:38] \"GET / HTTP/1.1\" 200 -\n",
      "127.0.0.1 - - [11/Jan/2022 03:07:39] \"GET / HTTP/1.1\" 200 -\n",
      "127.0.0.1 - - [11/Jan/2022 03:07:39] \"GET /static/images/123_dog.png HTTP/1.1\" 200 -\n"
     ]
    }
   ],
   "source": [
    "run_simple('localhost', 9000, app)"
   ]
  },
  {
   "cell_type": "code",
   "execution_count": null,
   "id": "1c9681b9",
   "metadata": {},
   "outputs": [],
   "source": []
  }
 ],
 "metadata": {
  "kernelspec": {
   "display_name": "Python 3",
   "language": "python",
   "name": "python3"
  },
  "language_info": {
   "codemirror_mode": {
    "name": "ipython",
    "version": 3
   },
   "file_extension": ".py",
   "mimetype": "text/x-python",
   "name": "python",
   "nbconvert_exporter": "python",
   "pygments_lexer": "ipython3",
   "version": "3.6.13"
  }
 },
 "nbformat": 4,
 "nbformat_minor": 5
}
